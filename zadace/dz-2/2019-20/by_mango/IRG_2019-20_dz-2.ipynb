{
 "cells": [
  {
   "cell_type": "markdown",
   "metadata": {
    "editable": false
   },
   "source": [
    "## Zadatak ID003\n",
    "\n",
    "Odredite kakav je odnos tocaka t1=(10.44 8.08 14.65) , t2=(-1.8 5.58 18.94) i trokuta zadanog vrhovima: v1=(19, 9, 12), v2=(13, 1, 17) i v3=(0, 9, 17). Tocke t1 i t2 leze u ravnini trokuta.\n",
    "\n",
    "1) t1 i t2 se nalaze izvan trokuta    \n",
    "2) t1 se nalazi unutar,a t2 izvan trokuta    \n",
    "3) t1 se nalazi izvan,a t2 unutar trokuta    \n",
    "4) t1 i t2 se nalaze unutar trokuta"
   ]
  },
  {
   "cell_type": "code",
   "execution_count": null,
   "metadata": {},
   "outputs": [],
   "source": [
    "# Sljedece vrijednosti zamijeniti vrijednostima zadanima u vasem zadatku:\n",
    "t1 = (10.44, 8.08, 14.65)\n",
    "t2 = (-1.8, 5.58, 18.94)\n",
    "\n",
    "v1 = (19, 9, 12)\n",
    "v2 = (13, 1, 17)\n",
    "v3 = (0, 9, 17)"
   ]
  },
  {
   "cell_type": "code",
   "execution_count": null,
   "metadata": {
    "editable": false
   },
   "outputs": [],
   "source": [
    "# Knjiga poglavlje 2.6.3\n",
    "\n",
    "# Znamo da tocke t1 i t2 leze u ravnini s trukotom.\n",
    "# Izracunamo baricentricne koordinate tocaka t1 i t2\n",
    "\n",
    "import numpy as np\n",
    "\n",
    "m1 = np.array([v1, v2, v3]).transpose()\n",
    "b1 = np.linalg.solve(m1, t1)\n",
    "b2 = np.linalg.solve(m1, t2)\n",
    "\n",
    "# Ako su sve baricentricne koordinate u intervalu <0, 1> tocka se nalazi u trokutu\n",
    "is_t1_inside = all(i > 0 and i < 1 for i in b1)\n",
    "is_t2_inside = all(i > 0 and i < 1 for i in b2)\n",
    "\n",
    "if is_t1_inside and is_t2_inside:\n",
    "    print( \"t1 i t2 se nalaze unutar trokuta\" )\n",
    "if is_t1_inside and not is_t2_inside:\n",
    "    print( \"t1 se nalazi unutar,a t2 izvan trokuta\" )\n",
    "if not is_t1_inside and is_t2_inside:\n",
    "    print( \"t1 se nalazi izvan,a t2 unutar trokuta\" )\n",
    "if not is_t1_inside and not is_t2_inside:\n",
    "    print( \"t1 i t2 se nalaze izvan trokuta\" )"
   ]
  },
  {
   "cell_type": "markdown",
   "metadata": {
    "editable": false
   },
   "source": [
    "## Zadatak ID012\n",
    "\n",
    "Zadani su centar projekcije C(43, 36, 41), dužina V1(34, 17, 27) - V2(28, 30, 18) te ravnina projekcije R: 16x + 4y + 14z + 6 = 0. Odrediti perspektivnu projekciju dužine na ravninu.\n",
    "\n",
    "T1 x =\t\n",
    "T1 y =\t\n",
    "T1 z =\t\n",
    "T2 x =\t\n",
    "T2 y =\t\n",
    "T2 z ="
   ]
  },
  {
   "cell_type": "code",
   "execution_count": null,
   "metadata": {},
   "outputs": [],
   "source": [
    "# Sljedece vrijednosti zamijeniti vrijednostima zadanima u vasem zadatku:\n",
    "C = (43, 36, 41)\n",
    "V1 = (34, 17, 27)\n",
    "V2 = (28, 30, 18)\n",
    "R = (16, 4, 14, 6)"
   ]
  },
  {
   "cell_type": "code",
   "execution_count": null,
   "metadata": {
    "editable": false
   },
   "outputs": [],
   "source": [
    "# skripta (Gradečak, Lugarć, Narančić, Pavlić) 2. DZ, 3. Zadatak\n",
    "\n",
    "p1 = tuple(np.array(C) - np.array(V1))\n",
    "t = -( sum((np.array(R[0:3]) * np.array(C))) + R[3] ) / sum( p1 * np.array(R[0:3]) )\n",
    "T1 = (np.array(p1) * t) + C\n",
    "p2 = tuple(np.array(C) - np.array(V2))\n",
    "t = -( sum((np.array(R[0:3]) * np.array(C))) + R[3] ) / sum( p2 * np.array(R[0:3]) )\n",
    "T2 = (np.array(p2) * t) + C\n",
    "print(\"T1 = \", T1)\n",
    "print(\"T2 = \", T2)"
   ]
  },
  {
   "cell_type": "markdown",
   "metadata": {
    "editable": false
   },
   "source": [
    "## Zadatak ID025\n",
    "\n",
    "Zadane su točke A(x, y, z), B(x, y, z) i C(x, y, z) koje tvore tokut u koordinatnom sustavu s tri dimenzije. Također su zadane točke P(x, y, z) i K(x, y, z) kojima je definiran pravac p.\n",
    "\n",
    "A (8.31, -2.97, 3.55)    \n",
    "B (-6.25, -2.47, -2.67)    \n",
    "C (1.51, -4.63, 0.65)    \n",
    "P (4.56, -1.19, 12.92)    \n",
    "K (2.43, -6.91, -18.89)\n",
    "\n",
    "Potrebno je odrediti prolazi li pravac p kroz trokut ABC. U slučaju da prolazi, potrebno je odrediti točku sjecišta i upisati pojedine koordinate. U slučaju da pravac p ne prolazi kroz trokut ABC, tada je potrebno za sve koordinate upisati vrijednost NE."
   ]
  },
  {
   "cell_type": "code",
   "execution_count": null,
   "metadata": {},
   "outputs": [],
   "source": [
    "A = (8.31, -2.97, 3.55)\n",
    "B = (-6.25, -2.47, -2.67)\n",
    "C = (1.51, -4.63, 0.65)\n",
    "\n",
    "P = (4.56, -1.19, 12.92)\n",
    "K = (2.43, -6.91, -18.89)"
   ]
  },
  {
   "cell_type": "code",
   "execution_count": null,
   "metadata": {
    "editable": false
   },
   "outputs": [],
   "source": [
    "# Knjiga poglavlje 2.7.3\n",
    "\n",
    "from sympy import Symbol, solve\n",
    "\n",
    "PK = np.array(K) - np.array(P)\n",
    "\n",
    "# Izracun jednadbze ravnine n x t + D = 0, t = (x, y, z)\n",
    "n = np.cross(np.array(B) - np.array(A), np.array(C) - np.array(A))\n",
    "D = np.dot(-n, A)\n",
    "\n",
    "# Izracun tocke presjeka ravnine trokuta i pravca\n",
    "w = Symbol('w')\n",
    "t = solve( n[0] * (P[0] + w * PK[0]) + n[1] * (P[1] + w * PK[1]) + n[2] * (P[2] + w * PK[2]) + D, w )[0]\n",
    "T = P + PK * t\n",
    "\n",
    "# Izracun baricentricnih koordinata\n",
    "m = np.array([A, B, C], dtype=float).transpose()\n",
    "b = np.linalg.solve(m, np.array(T, dtype=float))\n",
    "\n",
    "# Ako su sve baricentricne koordinate u intervalu <0, 1> tocka se nalazi u trokutu\n",
    "is_T_inside = all(i > 0 and i < 1 for i in b)\n",
    "\n",
    "if is_T_inside:\n",
    "    print( T )\n",
    "else:\n",
    "    print( \"NE, NE, NE\" )"
   ]
  },
  {
   "cell_type": "markdown",
   "metadata": {
    "editable": false
   },
   "source": [
    "## Zadatak ID037\n",
    "\n",
    "Zadane su točke: A(-9.3, 0.8, -8.6), B(4.0, 0.8, -0.9), C(-8.1, 8.6, -3.2) i D(-1.4, 9.4, -8.5). Točkama su određeni poligoni P1, P2, P3 i P4 koji tvore piramidu. Poligon P1 je određen točkama A, B i C, poligon P2 točkama B, C i D, poligon P3 točkama C, D i A, a poligon P4 točkama D, A i B. Redoslijed točaka nije određen bilo kakvim pravilom. Očište se nalazi na O(5.3, -26.5, -8.8), a gledište na G(0, 0, 0). Odredi koji su poligoni vidljivi iz očišta."
   ]
  },
  {
   "cell_type": "code",
   "execution_count": null,
   "metadata": {},
   "outputs": [],
   "source": [
    "A = (-9.3, 0.8, -8.6)\n",
    "B = (4.0, 0.8, -0.9)\n",
    "C = (-8.1, 8.6, -3.2)\n",
    "D = (-1.4, 9.4, -8.5)\n",
    "\n",
    "O = (5.3, -26.5, -8.8)\n",
    "G = (0, 0, 0)"
   ]
  },
  {
   "cell_type": "code",
   "execution_count": null,
   "metadata": {
    "editable": false
   },
   "outputs": [],
   "source": [
    "mid = ( np.array(A) + np.array(B) + np.array(C) + np.array(D) ) / 4\n",
    "\n",
    "n1 = np.cross( np.array( B ) - np.array( A ), np.array( C ) - np.array( A ) )\n",
    "n2 = np.cross( np.array( C ) - np.array( B ), np.array( D ) - np.array( B ) )\n",
    "n3 = np.cross( np.array( D ) - np.array( C ), np.array( A ) - np.array( C ) )\n",
    "n4 = np.cross( np.array( A ) - np.array( D ), np.array( B ) - np.array( D ) )\n",
    "\n",
    "if sum( np.multiply(n1, mid) ) + np.dot(-n1, A) > 0:\n",
    "    n1 *= -1\n",
    "if sum( np.multiply(n2, mid) ) + np.dot(-n2, B) > 0:\n",
    "    n2 *= -1\n",
    "if sum( np.multiply(n3, mid) ) + np.dot(-n3, C) > 0:\n",
    "    n3 *= -1\n",
    "if sum( np.multiply(n4, mid) ) + np.dot(-n4, D) > 0:\n",
    "    n4 *= -1\n",
    "\n",
    "mid1 = ( np.array( A ) + np.array( B ) + np.array( C ) ) / 3\n",
    "mid2 = ( np.array( B ) + np.array( C ) + np.array( D ) ) / 3\n",
    "mid3 = ( np.array( C ) + np.array( D ) + np.array( A ) ) / 3\n",
    "mid4 = ( np.array( D ) + np.array( A ) + np.array( B ) ) / 3\n",
    "v1 = np.array( mid1 ) - np.array( O )\n",
    "v2 = np.array( mid2 ) - np.array( O )\n",
    "v3 = np.array( mid3 ) - np.array( O )\n",
    "v4 = np.array( mid4 ) - np.array( O )\n",
    "\n",
    "fi1 = np.dot( v1 / np.linalg.norm( v1 ) , n1 / np.linalg.norm( n1 ) )\n",
    "fi2 = np.dot( v2 / np.linalg.norm( v2 ) , n2 / np.linalg.norm( n2 ) )\n",
    "fi3 = np.dot( v3 / np.linalg.norm( v3 ) , n3 / np.linalg.norm( n3 ) )\n",
    "fi4 = np.dot( v4 / np.linalg.norm( v4 ) , n4 / np.linalg.norm( n4 ) )\n",
    "\n",
    "print( \"Skriveni poligoni: \")\n",
    "if fi1 < 0:\n",
    "    print( \"P1\" )\n",
    "if fi2 < 0:\n",
    "    print( \"P2\" )\n",
    "if fi3 < 0:\n",
    "    print( \"P3\" )\n",
    "if fi4 < 0:\n",
    "    print( \"P4\" )"
   ]
  },
  {
   "cell_type": "markdown",
   "metadata": {
    "editable": false
   },
   "source": [
    "## Zadatak ID028\n",
    "\n",
    "Zadana je kugla središtem S = ( 4.0 2.0 4.0 1.0 ) i radijusom r = 4. Zadan je pravac dvjema točkama V1 = ( 6.0 5.0 4.0 1.0 ) i V2 = ( 1.0 5.0 9.0 1.0 ). Da li pravac probada kuglu? Ako da, odrediti točku (točke) probodišta.\n",
    "\n",
    "T1x =\t\n",
    "T1y\t=    \n",
    "T1z\t=    \n",
    "T2x\t=    \n",
    "T2y\t=    \n",
    "T2z ="
   ]
  },
  {
   "cell_type": "code",
   "execution_count": null,
   "metadata": {},
   "outputs": [],
   "source": [
    "S = (4.0, 2.0, 4.0, 1.0)\n",
    "r = 4\n",
    "V1 = (6.0, 5.0, 4.0, 1.0)\n",
    "V2 = (1.0, 5.0, 9.0, 1.0)"
   ]
  },
  {
   "cell_type": "code",
   "execution_count": null,
   "metadata": {
    "editable": false
   },
   "outputs": [],
   "source": [
    "# riješeni zadaci (Šebrek, Zuanović), Zadatak 1\n",
    "\n",
    "V1V2 = np.array(V2) - np.array(V1)\n",
    "\n",
    "w = Symbol('w')\n",
    "t = solve( (V1[0] + V1V2[0] * w - S[0])**2 + (V1[1] + V1V2[1] * w - S[1])**2 + (V1[2] + V1V2[2] * w - S[2])**2 - r**2, w )\n",
    "if len(t) == 1:\n",
    "    print(\"T1 =\", (V1 + V1V2 * t[0])[0:3], \"\\nT2 = + + +\")\n",
    "elif all(not i.is_real for i in t):\n",
    "    print(\"T1 = +, +, +\\nT2 = +, +, +\")\n",
    "else:\n",
    "    print(\"T1 =\", (V1 + V1V2 * t[0])[0:3])\n",
    "    print(\"T2 =\", (V1 + V1V2 * t[1])[0:3])"
   ]
  },
  {
   "cell_type": "markdown",
   "metadata": {
    "editable": false
   },
   "source": [
    "## Zadatak ID027\n",
    "\n",
    "Neka je područje prikaza u xy ravnini pravokutnik određen sa (0.0,0.0) - (800.0,600.0) . Neka je z' kompleksan broj u dijelu kompleksne ravnine određen s (-2.0,-1.0) - (0.25,1.0), koji odgovara slikovnom elementu (x', y') = (478,105). Odredite pripada li ili ne z' Mandelbrotovom skupu ako je dopušteno iterirati jednadžbu zn+1 = zn2 + z' najviše 7 puta uz z0 = 0 i epsilon = 222."
   ]
  },
  {
   "cell_type": "code",
   "execution_count": null,
   "metadata": {},
   "outputs": [],
   "source": [
    "x = (0.0, 800.0)\n",
    "y = (0.0, 600.0)\n",
    "\n",
    "u = (-2.0, 0.25)\n",
    "v = (-1.0, 1.0)\n",
    "\n",
    "x0 = 478\n",
    "y0 = 105\n",
    "\n",
    "max_iter = 7\n",
    "z0 = 0\n",
    "eps = 222"
   ]
  },
  {
   "cell_type": "code",
   "execution_count": null,
   "metadata": {
    "editable": false
   },
   "outputs": [],
   "source": [
    "z = complex((x0-x[0])/(x[1]-x[0]) * (u[1] - u[0]) + u[0], (y0-y[0])/(y[1]-y[0]) * (v[1] - v[0]) + v[0])\n",
    "for i in range(1, max_iter + 1):\n",
    "    z0 = z0 ** 2 + z\n",
    "    if abs(z0) > eps:\n",
    "        print(i)\n",
    "        break\n",
    "\n",
    "if i == max_iter:\n",
    "    print( 0 )\n",
    "    \n",
    "z0 = 0 # reset vrijednosti da se ne prikazuju cudni rezultati ako se ne pokrene prethodni cell"
   ]
  },
  {
   "cell_type": "markdown",
   "metadata": {
    "editable": false
   },
   "source": [
    "## Zadatak ID034\n",
    "\n",
    "U 2D prostoru imamo tri segmenta Bezierove aproksimacijske kubne krivulje trećeg stupnja.\n",
    "Prvi segment određen je točkama T0=(-9, 6); T1=(-8, -7); T2=(2, -4); T3=(4, 8).\n",
    "Treći segment određen je točkama P0=(35, 3); P1=(34, -6); P2=(46, -10); P3=(42, 3).\n",
    "Drugi segment povezan je s prvim i trećim uz ostvarenje C1 kontinuiteta. Odredi koordinate točaka kontrolnog poligona drugog segmenta tako da navedeni uvjet bude ispunjen.\n",
    "Koordinate točaka zapisati kao parove odvojene zarezom. Npr. \"-1.23,4.56\" (bez navodnika).\n",
    "\n",
    "S\\0\\ =\t\n",
    "S\\1\\ =\t\n",
    "S\\2\\ =\t\n",
    "S\\3\\ =\t\n"
   ]
  },
  {
   "cell_type": "code",
   "execution_count": null,
   "metadata": {},
   "outputs": [],
   "source": [
    "T0=(-9, 6)\n",
    "T1=(-8, -7)\n",
    "T2=(2, -4)\n",
    "T3=(4, 8)\n",
    "\n",
    "P0=(35, 3)\n",
    "P1=(34, -6)\n",
    "P2=(46, -10)\n",
    "P3=(42, 3)"
   ]
  },
  {
   "cell_type": "code",
   "execution_count": null,
   "metadata": {
    "editable": false
   },
   "outputs": [],
   "source": [
    "# Prekomplicirani je sloziti derivaciju, pa rucno upisujem vec izracunatu derivaciju\n",
    "\n",
    "# S0 mora poceti tamo gdje T zavrsava\n",
    "S0 = T3\n",
    "# S3 mora zavrsiti tamo gdje P pocinje\n",
    "S3 = P0\n",
    "\n",
    "# Izjednaciti derivaciju od T u t = 1 sa derivacijom od S u t = 0\n",
    "# Izjednaciti derivaciju od P u t = 0 sa derivacijom od S u t = 1\n",
    "# Iz toga se dobiju sljedeci izrazi\n",
    "S1 = ( -3 * np.array(T2) + 3 * np.array(T3) + 3 * np.array(S0) ) / 3\n",
    "S2 = ( 3 * np.array(P0) - 3 * np.array(P1) + 3 * np.array(S3) ) / 3\n",
    "\n",
    "print(\"S0 = {}\\nS1 = {}\\nS2 = {}\\nS3 = {}\".format(S0, tuple(S1), tuple(S2), S3))"
   ]
  },
  {
   "cell_type": "markdown",
   "metadata": {
    "editable": false
   },
   "source": [
    "## Zadatak ID038\n",
    "\n",
    "\n",
    "Zadano je tijelo pomoću točaka i ploha. Točke su zadane koordinatama, dok su plohe zadane rednim brojevima točaka koje ih određuju:\n",
    "\n",
    "PLOHE    \n",
    "P1: 1 3 2    \n",
    "P2: 1 2 4    \n",
    "P3: 1 4 3    \n",
    "P4: 2 3 4\n",
    "\n",
    "TOČKE    \n",
    "T1: 2 2 -4    \n",
    "T2: 9 3 -4    \n",
    "T3: 2 12 -4    \n",
    "T4: 2 3 2    \n",
    "\n",
    "Zadana je točka T = ( -3, -4, -1). Za provjeru odnosa točke i tijela koristi se algoritam iz 4. laboratorijske vježbe, koji poligone ispituje od prvog prema zadnjem.\n",
    "Ispitivanjem kojeg poligona će se utvrditi da je točka izvan tijela? Kao rješenje unesite indeks tog poligona (oprez: indeksi počinju od 1). Ako je točka unutar tijela, unesite 0. Ako je točka na rubu tijela, smatra se da je unutar tijela."
   ]
  },
  {
   "cell_type": "code",
   "execution_count": null,
   "metadata": {},
   "outputs": [],
   "source": [
    "plohe = [\n",
    "    [1, 3, 2],\n",
    "    [1, 2, 4],\n",
    "    [1, 4, 3],\n",
    "    [2, 3, 4]\n",
    "]\n",
    "\n",
    "tocke = [\n",
    "    [2, 2, -4],\n",
    "    [9, 3, -4],\n",
    "    [2, 12, 4],\n",
    "    [2, 3, 2]\n",
    "]\n",
    "\n",
    "T = (-3, -4, -1)"
   ]
  },
  {
   "cell_type": "code",
   "execution_count": null,
   "metadata": {
    "editable": false
   },
   "outputs": [],
   "source": [
    "# Izracun jednadbze ravnine n x t + D = 0, t = (x, y, z)\n",
    "sol = 0\n",
    "for p in plohe:\n",
    "    sol += 1\n",
    "    t1 = tocke[p[0]-1]\n",
    "    t2 = tocke[p[1]-1]\n",
    "    t3 = tocke[p[2]-1]\n",
    "    n = np.cross(np.array(t2) - np.array(t1), np.array(t3) - np.array(t1))\n",
    "    D = np.dot(-n, t1)\n",
    "    if sum( np.multiply(n, T) ) + D > 0:\n",
    "        print(sol)\n",
    "        sol = 0\n",
    "        break\n",
    "\n",
    "if sol != 0:\n",
    "    print( 0 )"
   ]
  },
  {
   "cell_type": "markdown",
   "metadata": {
    "editable": false
   },
   "source": [
    "## Zadatak ID044\n",
    "\n",
    "Zadana je trokut T=[(3,-3),(-7,-8),(7,-10)] i baricentrične koordinate B=(0.3,0.4,0.29).Na vrhovima trokuta nalaze se sljedeći intenziteti svijetlosti S=(204,92,30).Nađite točku (x,y) određenu zadanim baricentričnim koordinatama, te intenzitet svijetlosti u toj točci.\n",
    "\n",
    "X =     \n",
    "Y =    \n",
    "Intenzitet =    "
   ]
  },
  {
   "cell_type": "code",
   "execution_count": null,
   "metadata": {},
   "outputs": [],
   "source": [
    "T = [(3,-3),(-7,-8),(7,-10)]\n",
    "B = (0.3,0.4,0.29)\n",
    "S = (204,92,30)\n",
    "\n",
    "T=[(-2,2),(-7,-1),(8,-6)]\n",
    "B=(0.26,0.42,0.32)\n",
    "S=(138,103,58)"
   ]
  },
  {
   "cell_type": "code",
   "execution_count": null,
   "metadata": {
    "editable": false
   },
   "outputs": [],
   "source": [
    "m = np.array(T).transpose()\n",
    "t = np.dot(m, B)\n",
    "\n",
    "print( \"X = \", t[0] )\n",
    "print( \"Y = \", t[1] )\n",
    "print( \"Intenzitet = \", np.dot(S, B) )"
   ]
  },
  {
   "cell_type": "markdown",
   "metadata": {
    "editable": false
   },
   "source": [
    "## Zadatak ID47\n",
    "\n",
    "Oplošje tijela zadano je nizom poligona. Jedan od poligona zadan je točkama:   \n",
    "[(-5.0, -3.0, -5.0) , (-4.0, -9.0, -3.0) , (-7.0, 1.0, 1.0) ],    \n",
    "Očiste se nalazi u točki: (-6.0, -6.0, 8.0) , a gledište se nalazi u točki: (-10.0, 1.0, -2.0) .    \n",
    "Točkasti izvor svjetlosti intenziteta: 123 nalazi se u točki: (2.0, 1.0, 1.0) .    \n",
    "Ambijentna komponenta intenziteta jednaka je: 148.    \n",
    "Vektori prema očistu i gledištu računaju se iz središta poligona.    \n",
    "Koristeći postupak konstantnog sjenčenja izračunajte intenzitet zadanog poligona, tj. njegovu ambijentnu komponentu, difuznu komponentu, zrcalnu komponentu te ukupni intenzitet.    \n",
    "Udaljenost objekta do izvora svjetlosti zanemarite.    \n",
    "Koeficijenti refleksije ambijentne, difuzne te zrcalne komponente su: ka = 0.09, kd = 0.08, ks = 0.7, n = 5.    "
   ]
  },
  {
   "cell_type": "code",
   "execution_count": null,
   "metadata": {},
   "outputs": [],
   "source": [
    "p = [(-5.0, -3.0, -5.0) , (-4.0, -9.0, -3.0) , (-7.0, 1.0, 1.0) ]\n",
    "o = (-6.0, -6.0, 8.0)\n",
    "g = (-10.0, 1.0, -2.0)\n",
    "Ii = 123\n",
    "T = (2.0, 1.0, 1.0)\n",
    "Ia = 148\n",
    "ka = 0.09\n",
    "kd = 0.08\n",
    "ks = 0.7\n",
    "n = 5"
   ]
  },
  {
   "cell_type": "code",
   "execution_count": null,
   "metadata": {
    "editable": false
   },
   "outputs": [],
   "source": [
    "# Knjiga poglavlje 9.2\n",
    "\n",
    "Ig = Ia * ka\n",
    "\n",
    "norm = np.cross(np.array(p[1]) - np.array(p[0]), np.array(p[2]) - np.array(p[0]))\n",
    "D = np.dot(-norm, A)\n",
    "if sum( np.multiply(norm, T) ) + D < 0:\n",
    "    norm *= -1\n",
    "mid = (np.array(p[0]) + np.array(p[1]) + np.array(p[2])) / 3\n",
    "l = np.array(T) - np.array(mid)\n",
    "fi = np.dot( norm / np.linalg.norm(norm), l / np.linalg.norm(l) )\n",
    "Id = Ii * kd * fi\n",
    "\n",
    "v = np.array(o) - np.array(mid)\n",
    "r = 2 * ( norm / np.linalg.norm(norm) ) * ( np.dot( norm, l ) / np.linalg.norm(norm) ) - l\n",
    "alpha = np.dot( v / np.linalg.norm(v), r / np.linalg.norm(r) )\n",
    "Is = Ii * ks * (abs(alpha)**n)\n",
    "\n",
    "print(\"Ambijentna: \", Ig)\n",
    "print(\"Difuzna: \", Id)\n",
    "print(\"Zrcalna: \", Is)\n",
    "print(\"Ukupno: \", Ig + Id + Is)"
   ]
  }
 ],
 "metadata": {
  "kernelspec": {
   "display_name": "Python 3",
   "language": "python",
   "name": "python3"
  },
  "language_info": {
   "codemirror_mode": {
    "name": "ipython",
    "version": 3
   },
   "file_extension": ".py",
   "mimetype": "text/x-python",
   "name": "python",
   "nbconvert_exporter": "python",
   "pygments_lexer": "ipython3",
   "version": "3.7.7"
  }
 },
 "nbformat": 4,
 "nbformat_minor": 4
}
